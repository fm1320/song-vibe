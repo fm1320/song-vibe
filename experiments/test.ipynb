{
 "cells": [
  {
   "cell_type": "code",
   "execution_count": 1,
   "metadata": {},
   "outputs": [],
   "source": [
    "import song_vibe"
   ]
  },
  {
   "cell_type": "code",
   "execution_count": 2,
   "metadata": {},
   "outputs": [
    {
     "name": "stdout",
     "output_type": "stream",
     "text": [
      "Help on package song_vibe:\n",
      "\n",
      "NAME\n",
      "    song_vibe\n",
      "\n",
      "PACKAGE CONTENTS\n",
      "    inference\n",
      "    train\n",
      "    ui (package)\n",
      "    utils\n",
      "\n",
      "FILE\n",
      "    /Users/Antonio.Morais/Work/LLM/song-vibe/song_vibe/__init__.py\n",
      "\n",
      "\n"
     ]
    }
   ],
   "source": [
    "help(song_vibe)"
   ]
  },
  {
   "cell_type": "code",
   "execution_count": null,
   "metadata": {},
   "outputs": [],
   "source": []
  }
 ],
 "metadata": {
  "kernelspec": {
   "display_name": "song-vibe-U7dANpHI-py3.11",
   "language": "python",
   "name": "python3"
  },
  "language_info": {
   "codemirror_mode": {
    "name": "ipython",
    "version": 3
   },
   "file_extension": ".py",
   "mimetype": "text/x-python",
   "name": "python",
   "nbconvert_exporter": "python",
   "pygments_lexer": "ipython3",
   "version": "3.11.4"
  }
 },
 "nbformat": 4,
 "nbformat_minor": 2
}
